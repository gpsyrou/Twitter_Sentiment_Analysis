{
 "cells": [
  {
   "cell_type": "markdown",
   "metadata": {},
   "source": [
    "# Exploratory Data and Sentiment Analysis on COVID-19 related tweets through the TwitterAPI\n",
    "\n",
    "### Author: George Spyrou\n",
    "### Date: 01/03/2020"
   ]
  },
  {
   "cell_type": "markdown",
   "metadata": {},
   "source": [
    "Purpose of this project is to leverage the TwitterAPI functionality offered by Twitter, and conduct an analysis on tweets that are related with the COVID-19 virus. Initially, this project started as an exploratory task to learn how the TwitterAPI can be used to retrieve data(tweets) from the web, and how to use the tweepy and searchtweets packages. \n",
    "\n",
    "After I managed to retrieve the data, I found myself really interested into performing some data analysis on the retrieved tweets. COVID-19 - or as it's been commonly known as Coronavirus - is one of the most discussed topics in Twitter for the period 01/01/2020 - 01/03/2020. Using relevant tweets we want to perform some exploratory data analysis (find the most common words used in tweets related to covid-19 or identify the bigrams) and then attempt to identify the sentiment of the tweets by using a variety of methods.\n",
    "\n",
    "#### Version 1: The first version has been completed on 01/03/2020 and it includes analysis on:\n",
    "    - Most common words present in tweets.\n",
    "    - Most common bigrams (i.e. pairs of words that often appear next to each other).\n",
    "    - Sentiment analysis by using the Liu Hu opinion lexicon algorithm.\n",
    "    \n",
    "At the first part of the project, we deal with setting up the environment required for our analysis."
   ]
  },
  {
   "cell_type": "code",
   "execution_count": 1,
   "metadata": {},
   "outputs": [],
   "source": [
    "# Import dependencies\n",
    "import os\n",
    "import json\n",
    "import pandas as pd\n",
    "\n",
    "# Plots and graphs\n",
    "import matplotlib.pyplot as plt\n",
    "import seaborn as sns\n",
    "\n",
    "# Set up the project environment\n",
    "\n",
    "# Secure location of the required keys to connect to the API\n",
    "# This config also contains the search query (in this case 'coronavirus')\n",
    "json_loc = '/Users/georgiosspyrou/Desktop/config_tweets/Twitter/twitter_config.json'\n",
    "\n",
    "with open(json_loc) as json_file:\n",
    "    data = json.load(json_file)\n",
    "\n",
    "# Project folder location and keys\n",
    "os.chdir(data[\"project_directory\"])\n",
    "\n",
    "import twitterCustomFunc as twf\n",
    "\n",
    "# Import the data from the created .jsonl files\n",
    "\n",
    "# Read the data from the jsonl files\n",
    "jsonl_files_folder = os.path.join(data[\"project_directory\"], data[\"outputFiles\"])\n"
   ]
  },
  {
   "cell_type": "code",
   "execution_count": null,
   "metadata": {},
   "outputs": [],
   "source": []
  }
 ],
 "metadata": {
  "kernelspec": {
   "display_name": "Python 3",
   "language": "python",
   "name": "python3"
  },
  "language_info": {
   "codemirror_mode": {
    "name": "ipython",
    "version": 3
   },
   "file_extension": ".py",
   "mimetype": "text/x-python",
   "name": "python",
   "nbconvert_exporter": "python",
   "pygments_lexer": "ipython3",
   "version": "3.7.6"
  }
 },
 "nbformat": 4,
 "nbformat_minor": 4
}
